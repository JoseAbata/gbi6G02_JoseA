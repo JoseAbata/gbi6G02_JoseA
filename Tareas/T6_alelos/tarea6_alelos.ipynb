{
 "cells": [
  {
   "cell_type": "markdown",
   "id": "2a8ef147",
   "metadata": {},
   "source": [
    "<img src=\"https://www.ikiam.edu.ec/img/logo-ikiam-grey.png\" width=400 height=300 />\n",
    "\n",
    "### <center><h2> INGENIERÍA EN BIOTECNOLOGÍA</h2></center>\n",
    "## <center><h1 style=\"color:red\">GBI6 - BIOINFORMÁTICA</h1></center>\n",
    "\n",
    "\n",
    "\n",
    "### TAREA 6\n",
    "\n",
    "##### ALUMNO: José Abata\n",
    "##### Grupo: G02\n",
    "###### En esta actividad debe realizar lo siguiente: \n",
    "* Crear un módulo alelos.py con las tres funciones de \"Creación de la población\", \"Cuantificación de frecuencias de alelos\" y \"Creación de la población hijo\". Cada función debe tener una sección de explicación de lo que hace, la explicación de las variables de entrrada y salida.\n",
    "* Crear un Júpiter Notebook tarea6_alelos.ipynb, cargar el módulo alelos y ejecutar las funciones hasta obtener la generación 100. Asegurarse que este cuaderno de jupyter tenga sus datos personales, texto de explicación del ejercicio y de los resultados. Inserte al menos una imagen (logo de Ikiam). Asegurarse que el cuaderno tiene los resultados de ejecución de los bloques de código."
   ]
  },
  {
   "cell_type": "code",
   "execution_count": 18,
   "id": "d2f676f0",
   "metadata": {},
   "outputs": [
    {
     "data": {
      "text/plain": [
       "[('A', 'A'),\n",
       " ('a', 'A'),\n",
       " ('A', 'a'),\n",
       " ('A', 'A'),\n",
       " ('A', 'a'),\n",
       " ('a', 'A'),\n",
       " ('a', 'a'),\n",
       " ('a', 'A'),\n",
       " ('A', 'a'),\n",
       " ('A', 'A')]"
      ]
     },
     "execution_count": 18,
     "metadata": {},
     "output_type": "execute_result"
    }
   ],
   "source": [
    "# Se importa el modulo creado \"alelos.py\", que tienen las funciones de: \n",
    "# Creación de la población: build_population (N, p)  \n",
    "# Cuantificación de frecuencias de alelos: compute_frequencies (population)\n",
    "# Creacion de la población hijo: reproduce_population (population)\n",
    "\n",
    "import alelos\n",
    "newp = alelos.build_population(10, 0.60)\n",
    "newp\n"
   ]
  },
  {
   "cell_type": "code",
   "execution_count": 19,
   "id": "3e93f434",
   "metadata": {},
   "outputs": [
    {
     "data": {
      "text/plain": [
       "{'AA': 3, 'aa': 1, 'Aa': 3, 'aA': 3}"
      ]
     },
     "execution_count": 19,
     "metadata": {},
     "output_type": "execute_result"
    }
   ],
   "source": [
    "#prueba de compute_frequencies\n",
    "countp = alelos.compute_frequencies(newp)\n",
    "countp"
   ]
  },
  {
   "cell_type": "code",
   "execution_count": 20,
   "id": "2f738f4e",
   "metadata": {},
   "outputs": [
    {
     "data": {
      "text/plain": [
       "[('a', 'a'),\n",
       " ('a', 'A'),\n",
       " ('a', 'A'),\n",
       " ('A', 'A'),\n",
       " ('A', 'A'),\n",
       " ('A', 'A'),\n",
       " ('a', 'a'),\n",
       " ('A', 'a'),\n",
       " ('a', 'A'),\n",
       " ('a', 'a')]"
      ]
     },
     "execution_count": 20,
     "metadata": {},
     "output_type": "execute_result"
    }
   ],
   "source": [
    "#prueba de reproduce_population\n",
    "newj = alelos.reproduce_population(newp)\n",
    "newj"
   ]
  },
  {
   "cell_type": "code",
   "execution_count": 21,
   "id": "e0922c1f",
   "metadata": {},
   "outputs": [
    {
     "data": {
      "text/plain": [
       "{'AA': 3, 'aa': 3, 'Aa': 1, 'aA': 3}"
      ]
     },
     "execution_count": 21,
     "metadata": {},
     "output_type": "execute_result"
    }
   ],
   "source": [
    "#prueba de compute_frequencies\n",
    "countj = alelos.compute_frequencies(newj)\n",
    "countj"
   ]
  },
  {
   "cell_type": "code",
   "execution_count": 23,
   "id": "1e137b8d",
   "metadata": {},
   "outputs": [
    {
     "data": {
      "text/plain": [
       "[[],\n",
       " [('A', 'a')],\n",
       " [('a', 'a'), ('A', 'A')],\n",
       " [('A', 'a'), ('A', 'A'), ('A', 'A')],\n",
       " [('A', 'A'), ('A', 'A'), ('A', 'A'), ('A', 'A')],\n",
       " [('a', 'A'), ('A', 'A'), ('A', 'A'), ('A', 'A'), ('A', 'a')],\n",
       " [('a', 'a'), ('a', 'A'), ('a', 'a'), ('a', 'a'), ('a', 'a'), ('a', 'A')],\n",
       " [('a', 'a'),\n",
       "  ('a', 'A'),\n",
       "  ('A', 'a'),\n",
       "  ('a', 'a'),\n",
       "  ('a', 'A'),\n",
       "  ('A', 'a'),\n",
       "  ('a', 'A')],\n",
       " [('a', 'A'),\n",
       "  ('a', 'a'),\n",
       "  ('A', 'A'),\n",
       "  ('A', 'a'),\n",
       "  ('A', 'A'),\n",
       "  ('a', 'A'),\n",
       "  ('a', 'A'),\n",
       "  ('A', 'A')],\n",
       " [('a', 'a'),\n",
       "  ('a', 'A'),\n",
       "  ('A', 'a'),\n",
       "  ('A', 'a'),\n",
       "  ('a', 'a'),\n",
       "  ('A', 'a'),\n",
       "  ('a', 'a'),\n",
       "  ('a', 'A'),\n",
       "  ('a', 'a')]]"
      ]
     },
     "execution_count": 23,
     "metadata": {},
     "output_type": "execute_result"
    }
   ],
   "source": [
    "# generar una lista de 100 poblaciones, y despues hacer una loop para obtener 100 nuevas generaciones \n",
    "fr = [alelos.build_population(x, 0.60) for x in range(0, 10) ]\n",
    "\n",
    "nuevas = [alelos.reproduce_population(i) for i in fr ]\n",
    "nuevas"
   ]
  },
  {
   "cell_type": "code",
   "execution_count": 24,
   "id": "d61c4119",
   "metadata": {},
   "outputs": [
    {
     "data": {
      "text/plain": [
       "[{'AA': 0, 'aa': 0, 'Aa': 0, 'aA': 0},\n",
       " {'AA': 0, 'aa': 0, 'Aa': 0, 'aA': 1},\n",
       " {'AA': 0, 'aa': 0, 'Aa': 2, 'aA': 0},\n",
       " {'AA': 0, 'aa': 3, 'Aa': 0, 'aA': 0},\n",
       " {'AA': 1, 'aa': 1, 'Aa': 0, 'aA': 2},\n",
       " {'AA': 4, 'aa': 0, 'Aa': 1, 'aA': 0},\n",
       " {'AA': 0, 'aa': 2, 'Aa': 1, 'aA': 3},\n",
       " {'AA': 2, 'aa': 2, 'Aa': 1, 'aA': 2},\n",
       " {'AA': 3, 'aa': 0, 'Aa': 2, 'aA': 3},\n",
       " {'AA': 1, 'aa': 3, 'Aa': 2, 'aA': 3},\n",
       " {'AA': 1, 'aa': 4, 'Aa': 2, 'aA': 3},\n",
       " {'AA': 4, 'aa': 2, 'Aa': 3, 'aA': 2},\n",
       " {'AA': 3, 'aa': 3, 'Aa': 4, 'aA': 2},\n",
       " {'AA': 3, 'aa': 2, 'Aa': 3, 'aA': 5},\n",
       " {'AA': 2, 'aa': 3, 'Aa': 5, 'aA': 4},\n",
       " {'AA': 4, 'aa': 2, 'Aa': 3, 'aA': 6},\n",
       " {'AA': 8, 'aa': 1, 'Aa': 3, 'aA': 4},\n",
       " {'AA': 5, 'aa': 1, 'Aa': 5, 'aA': 6},\n",
       " {'AA': 6, 'aa': 3, 'Aa': 4, 'aA': 5},\n",
       " {'AA': 4, 'aa': 4, 'Aa': 5, 'aA': 6},\n",
       " {'AA': 8, 'aa': 2, 'Aa': 4, 'aA': 6},\n",
       " {'AA': 10, 'aa': 1, 'Aa': 5, 'aA': 5},\n",
       " {'AA': 3, 'aa': 4, 'Aa': 8, 'aA': 7},\n",
       " {'AA': 6, 'aa': 5, 'Aa': 4, 'aA': 8},\n",
       " {'AA': 10, 'aa': 4, 'Aa': 3, 'aA': 7},\n",
       " {'AA': 4, 'aa': 8, 'Aa': 8, 'aA': 5},\n",
       " {'AA': 10, 'aa': 4, 'Aa': 6, 'aA': 6},\n",
       " {'AA': 9, 'aa': 3, 'Aa': 8, 'aA': 7},\n",
       " {'AA': 7, 'aa': 7, 'Aa': 9, 'aA': 5},\n",
       " {'AA': 12, 'aa': 5, 'Aa': 1, 'aA': 11},\n",
       " {'AA': 4, 'aa': 9, 'Aa': 8, 'aA': 9},\n",
       " {'AA': 11, 'aa': 6, 'Aa': 7, 'aA': 7},\n",
       " {'AA': 17, 'aa': 1, 'Aa': 7, 'aA': 7},\n",
       " {'AA': 14, 'aa': 1, 'Aa': 12, 'aA': 6},\n",
       " {'AA': 15, 'aa': 7, 'Aa': 6, 'aA': 6},\n",
       " {'AA': 6, 'aa': 8, 'Aa': 12, 'aA': 9},\n",
       " {'AA': 10, 'aa': 5, 'Aa': 11, 'aA': 10},\n",
       " {'AA': 16, 'aa': 5, 'Aa': 5, 'aA': 11},\n",
       " {'AA': 20, 'aa': 3, 'Aa': 4, 'aA': 11},\n",
       " {'AA': 10, 'aa': 10, 'Aa': 9, 'aA': 10},\n",
       " {'AA': 19, 'aa': 4, 'Aa': 11, 'aA': 6},\n",
       " {'AA': 19, 'aa': 3, 'Aa': 12, 'aA': 7},\n",
       " {'AA': 9, 'aa': 14, 'Aa': 14, 'aA': 5},\n",
       " {'AA': 12, 'aa': 9, 'Aa': 11, 'aA': 11},\n",
       " {'AA': 19, 'aa': 6, 'Aa': 9, 'aA': 10},\n",
       " {'AA': 19, 'aa': 5, 'Aa': 8, 'aA': 13},\n",
       " {'AA': 20, 'aa': 2, 'Aa': 12, 'aA': 12},\n",
       " {'AA': 16, 'aa': 10, 'Aa': 9, 'aA': 12},\n",
       " {'AA': 12, 'aa': 9, 'Aa': 16, 'aA': 11},\n",
       " {'AA': 20, 'aa': 9, 'Aa': 11, 'aA': 9},\n",
       " {'AA': 11, 'aa': 5, 'Aa': 15, 'aA': 19},\n",
       " {'AA': 29, 'aa': 6, 'Aa': 11, 'aA': 5},\n",
       " {'AA': 16, 'aa': 11, 'Aa': 10, 'aA': 15},\n",
       " {'AA': 23, 'aa': 6, 'Aa': 12, 'aA': 12},\n",
       " {'AA': 14, 'aa': 13, 'Aa': 15, 'aA': 12},\n",
       " {'AA': 16, 'aa': 8, 'Aa': 16, 'aA': 15},\n",
       " {'AA': 22, 'aa': 13, 'Aa': 13, 'aA': 8},\n",
       " {'AA': 18, 'aa': 14, 'Aa': 9, 'aA': 16},\n",
       " {'AA': 17, 'aa': 15, 'Aa': 15, 'aA': 11},\n",
       " {'AA': 18, 'aa': 16, 'Aa': 13, 'aA': 12},\n",
       " {'AA': 15, 'aa': 5, 'Aa': 25, 'aA': 15},\n",
       " {'AA': 17, 'aa': 15, 'Aa': 14, 'aA': 15},\n",
       " {'AA': 23, 'aa': 13, 'Aa': 10, 'aA': 16},\n",
       " {'AA': 24, 'aa': 7, 'Aa': 13, 'aA': 19},\n",
       " {'AA': 24, 'aa': 6, 'Aa': 19, 'aA': 15},\n",
       " {'AA': 18, 'aa': 8, 'Aa': 13, 'aA': 26},\n",
       " {'AA': 26, 'aa': 11, 'Aa': 18, 'aA': 11},\n",
       " {'AA': 21, 'aa': 23, 'Aa': 10, 'aA': 13},\n",
       " {'AA': 19, 'aa': 15, 'Aa': 16, 'aA': 18},\n",
       " {'AA': 26, 'aa': 15, 'Aa': 12, 'aA': 16},\n",
       " {'AA': 26, 'aa': 11, 'Aa': 12, 'aA': 21},\n",
       " {'AA': 28, 'aa': 4, 'Aa': 16, 'aA': 23},\n",
       " {'AA': 24, 'aa': 14, 'Aa': 18, 'aA': 16},\n",
       " {'AA': 23, 'aa': 13, 'Aa': 18, 'aA': 19},\n",
       " {'AA': 26, 'aa': 21, 'Aa': 13, 'aA': 14},\n",
       " {'AA': 26, 'aa': 16, 'Aa': 14, 'aA': 19},\n",
       " {'AA': 35, 'aa': 4, 'Aa': 21, 'aA': 16},\n",
       " {'AA': 34, 'aa': 9, 'Aa': 21, 'aA': 13},\n",
       " {'AA': 19, 'aa': 24, 'Aa': 17, 'aA': 18},\n",
       " {'AA': 25, 'aa': 17, 'Aa': 22, 'aA': 15},\n",
       " {'AA': 38, 'aa': 11, 'Aa': 19, 'aA': 12},\n",
       " {'AA': 37, 'aa': 12, 'Aa': 16, 'aA': 16},\n",
       " {'AA': 29, 'aa': 15, 'Aa': 19, 'aA': 19},\n",
       " {'AA': 30, 'aa': 16, 'Aa': 22, 'aA': 15},\n",
       " {'AA': 30, 'aa': 16, 'Aa': 17, 'aA': 21},\n",
       " {'AA': 27, 'aa': 19, 'Aa': 17, 'aA': 22},\n",
       " {'AA': 25, 'aa': 15, 'Aa': 24, 'aA': 22},\n",
       " {'AA': 22, 'aa': 12, 'Aa': 26, 'aA': 27},\n",
       " {'AA': 32, 'aa': 13, 'Aa': 22, 'aA': 21},\n",
       " {'AA': 25, 'aa': 15, 'Aa': 24, 'aA': 25},\n",
       " {'AA': 23, 'aa': 23, 'Aa': 25, 'aA': 19},\n",
       " {'AA': 20, 'aa': 22, 'Aa': 29, 'aA': 20},\n",
       " {'AA': 29, 'aa': 18, 'Aa': 24, 'aA': 21},\n",
       " {'AA': 49, 'aa': 3, 'Aa': 19, 'aA': 22},\n",
       " {'AA': 36, 'aa': 15, 'Aa': 21, 'aA': 22},\n",
       " {'AA': 34, 'aa': 18, 'Aa': 20, 'aA': 23},\n",
       " {'AA': 46, 'aa': 14, 'Aa': 19, 'aA': 17},\n",
       " {'AA': 33, 'aa': 10, 'Aa': 27, 'aA': 27},\n",
       " {'AA': 30, 'aa': 14, 'Aa': 23, 'aA': 31},\n",
       " {'AA': 26, 'aa': 17, 'Aa': 29, 'aA': 27}]"
      ]
     },
     "execution_count": 24,
     "metadata": {},
     "output_type": "execute_result"
    }
   ],
   "source": [
    "# loop para generar 100 nuevas generaciones y cuantificar sus alelos\n",
    "fr = [alelos.build_population(x, 0.60) for x in range(0, 100) ]\n",
    "\n",
    "nuevas = [alelos.reproduce_population(i) for i in fr ]\n",
    "nuevas2 = [alelos.compute_frequencies(i) for i in nuevas]\n",
    "\n",
    "nuevas2"
   ]
  },
  {
   "cell_type": "code",
   "execution_count": null,
   "id": "fa3c1883",
   "metadata": {},
   "outputs": [],
   "source": []
  }
 ],
 "metadata": {
  "kernelspec": {
   "display_name": "Python 3 (ipykernel)",
   "language": "python",
   "name": "python3"
  },
  "language_info": {
   "codemirror_mode": {
    "name": "ipython",
    "version": 3
   },
   "file_extension": ".py",
   "mimetype": "text/x-python",
   "name": "python",
   "nbconvert_exporter": "python",
   "pygments_lexer": "ipython3",
   "version": "3.9.12"
  }
 },
 "nbformat": 4,
 "nbformat_minor": 5
}
